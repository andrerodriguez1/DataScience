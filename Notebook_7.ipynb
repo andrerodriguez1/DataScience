{
 "cells": [
  {
   "cell_type": "markdown",
   "metadata": {
    "id": "4CoLDDN0Scje"
   },
   "source": [
    "## Programa Ingenias+ Data Science"
   ]
  },
  {
   "cell_type": "markdown",
   "metadata": {
    "id": "Rkizi-vlScjg"
   },
   "source": [
    "## Trabajando con Pandas"
   ]
  },
  {
   "cell_type": "markdown",
   "metadata": {
    "id": "VRd6Ow_aScjg"
   },
   "source": [
    "1) Importa las librerias requeridas: `Pandas` y `NumPy`.  \n",
    "\n",
    "Una buena practica a la hora de escribir codigo es de comentar siempre que estoy haciendo (usando `#`) en la linea anterior. Por mas obvio que parezca lo que voy a hacer, puede ser que tenga que compartir el documento con otras personas y no sepan que quise hacer en cada linea. O que yo mismo lea el codigo tiempo despues y no recuerde porque lo hice."
   ]
  },
  {
   "cell_type": "code",
   "execution_count": 1,
   "metadata": {
    "id": "Anvt8yoSScji"
   },
   "outputs": [],
   "source": [
    "# Importo librerias y renombramos para usarlas\n",
    "import numpy as np\n",
    "import pandas as pd"
   ]
  },
  {
   "cell_type": "markdown",
   "metadata": {
    "id": "5YWvHd--Scjl"
   },
   "source": [
    "2) Lee el archivo csv `life_expectancy_data` usando `pandas`. Guardalo en una variable llamada `expvida`."
   ]
  },
  {
   "cell_type": "code",
   "execution_count": 2,
   "metadata": {
    "id": "oM1b7mmxScjm"
   },
   "outputs": [],
   "source": [
    "# Leo los datos en un DataFrame\n",
    "expvida= pd.read_csv('LifeExpectancyData.csv')"
   ]
  },
  {
   "cell_type": "markdown",
   "metadata": {
    "id": "-a1OoVvIScjp"
   },
   "source": [
    "3) ¿Que tipo de estructura de datos contiene la variable `expvida`?"
   ]
  },
  {
   "cell_type": "code",
   "execution_count": 5,
   "metadata": {
    "id": "7R6g46UGScjp"
   },
   "outputs": [
    {
     "name": "stdout",
     "output_type": "stream",
     "text": [
      "El tipo de estructura de los datos en expvida <class 'pandas.core.frame.DataFrame'>\n"
     ]
    }
   ],
   "source": [
    "# Obtengo el tipo de estructura de datos usando función type\n",
    "print(f'El tipo de estructura de los datos en expvida', type(expvida))"
   ]
  },
  {
   "cell_type": "markdown",
   "metadata": {
    "id": "EBwmuoKKScjv"
   },
   "source": [
    "4) ¿Cuantas filas y columnas tiene `expvida`?"
   ]
  },
  {
   "cell_type": "code",
   "execution_count": 6,
   "metadata": {
    "id": "1oKt4xZmScjw"
   },
   "outputs": [
    {
     "name": "stdout",
     "output_type": "stream",
     "text": [
      "El DataFrame tiene 2938 filas y 22 columnas\n"
     ]
    }
   ],
   "source": [
    "# Uso .shape para obtener la dimensión del DataFrame (cantidad de filas y columnas)\n",
    "filas_columnas = expvida.shape\n",
    "print(f'El DataFrame tiene {filas_columnas[0]} filas y {filas_columnas[1]} columnas' )"
   ]
  },
  {
   "cell_type": "markdown",
   "metadata": {
    "id": "O-ICrkf6Scj0"
   },
   "source": [
    "**Numero de filas**: 2938"
   ]
  },
  {
   "cell_type": "markdown",
   "metadata": {
    "id": "zXyS8xzFScj0"
   },
   "source": [
    "**Numero de columnas**: 22"
   ]
  },
  {
   "cell_type": "markdown",
   "metadata": {
    "id": "V3cNAjIIScj1"
   },
   "source": [
    "5) ¿Cual es el nombre de las columnas contenidas en `expvida`?"
   ]
  },
  {
   "cell_type": "code",
   "execution_count": 7,
   "metadata": {
    "id": "Cr61t2ALScj2"
   },
   "outputs": [
    {
     "name": "stdout",
     "output_type": "stream",
     "text": [
      "El nombre de las columnas es Index(['Country', 'Year', 'Status', 'Life expectancy ', 'Adult Mortality',\n",
      "       'infant deaths', 'Alcohol', 'percentage expenditure', 'Hepatitis B',\n",
      "       'Measles ', ' BMI ', 'under-five deaths ', 'Polio', 'Total expenditure',\n",
      "       'Diphtheria ', ' HIV/AIDS', 'GDP', 'Population',\n",
      "       ' thinness  1-19 years', ' thinness 5-9 years',\n",
      "       'Income composition of resources', 'Schooling'],\n",
      "      dtype='object')\n"
     ]
    }
   ],
   "source": [
    "# Obtengo el nombre de las columnas con .columns\n",
    "print(f'El nombre de las columnas es', expvida.columns)"
   ]
  },
  {
   "cell_type": "markdown",
   "metadata": {
    "id": "xbXCaw0mScj5"
   },
   "source": [
    "6) Inspecciona las primeras 10 filas de `expvida`"
   ]
  },
  {
   "cell_type": "code",
   "execution_count": 8,
   "metadata": {
    "id": "WSUs6-wmScj6"
   },
   "outputs": [
    {
     "name": "stdout",
     "output_type": "stream",
     "text": [
      "       Country  Year      Status  Life expectancy   Adult Mortality  \\\n",
      "0  Afghanistan  2015  Developing              65.0            263.0   \n",
      "1  Afghanistan  2014  Developing              59.9            271.0   \n",
      "2  Afghanistan  2013  Developing              59.9            268.0   \n",
      "3  Afghanistan  2012  Developing              59.5            272.0   \n",
      "4  Afghanistan  2011  Developing              59.2            275.0   \n",
      "5  Afghanistan  2010  Developing              58.8            279.0   \n",
      "6  Afghanistan  2009  Developing              58.6            281.0   \n",
      "7  Afghanistan  2008  Developing              58.1            287.0   \n",
      "8  Afghanistan  2007  Developing              57.5            295.0   \n",
      "9  Afghanistan  2006  Developing              57.3            295.0   \n",
      "\n",
      "   infant deaths  Alcohol  percentage expenditure  Hepatitis B  Measles   ...  \\\n",
      "0             62     0.01               71.279624         65.0      1154  ...   \n",
      "1             64     0.01               73.523582         62.0       492  ...   \n",
      "2             66     0.01               73.219243         64.0       430  ...   \n",
      "3             69     0.01               78.184215         67.0      2787  ...   \n",
      "4             71     0.01                7.097109         68.0      3013  ...   \n",
      "5             74     0.01               79.679367         66.0      1989  ...   \n",
      "6             77     0.01               56.762217         63.0      2861  ...   \n",
      "7             80     0.03               25.873925         64.0      1599  ...   \n",
      "8             82     0.02               10.910156         63.0      1141  ...   \n",
      "9             84     0.03               17.171518         64.0      1990  ...   \n",
      "\n",
      "   Polio  Total expenditure  Diphtheria    HIV/AIDS         GDP  Population  \\\n",
      "0    6.0               8.16         65.0        0.1  584.259210  33736494.0   \n",
      "1   58.0               8.18         62.0        0.1  612.696514    327582.0   \n",
      "2   62.0               8.13         64.0        0.1  631.744976  31731688.0   \n",
      "3   67.0               8.52         67.0        0.1  669.959000   3696958.0   \n",
      "4   68.0               7.87         68.0        0.1   63.537231   2978599.0   \n",
      "5   66.0               9.20         66.0        0.1  553.328940   2883167.0   \n",
      "6   63.0               9.42         63.0        0.1  445.893298    284331.0   \n",
      "7   64.0               8.33         64.0        0.1  373.361116   2729431.0   \n",
      "8   63.0               6.73         63.0        0.1  369.835796  26616792.0   \n",
      "9   58.0               7.43         58.0        0.1  272.563770   2589345.0   \n",
      "\n",
      "    thinness  1-19 years   thinness 5-9 years  \\\n",
      "0                   17.2                 17.3   \n",
      "1                   17.5                 17.5   \n",
      "2                   17.7                 17.7   \n",
      "3                   17.9                 18.0   \n",
      "4                   18.2                 18.2   \n",
      "5                   18.4                 18.4   \n",
      "6                   18.6                 18.7   \n",
      "7                   18.8                 18.9   \n",
      "8                   19.0                 19.1   \n",
      "9                   19.2                 19.3   \n",
      "\n",
      "   Income composition of resources  Schooling  \n",
      "0                            0.479       10.1  \n",
      "1                            0.476       10.0  \n",
      "2                            0.470        9.9  \n",
      "3                            0.463        9.8  \n",
      "4                            0.454        9.5  \n",
      "5                            0.448        9.2  \n",
      "6                            0.434        8.9  \n",
      "7                            0.433        8.7  \n",
      "8                            0.415        8.4  \n",
      "9                            0.405        8.1  \n",
      "\n",
      "[10 rows x 22 columns]\n"
     ]
    }
   ],
   "source": [
    "# Inspecciono las primeras filas con .head\n",
    "print(expvida.head(10))"
   ]
  },
  {
   "cell_type": "markdown",
   "metadata": {
    "id": "99b7sMhZScj_"
   },
   "source": [
    "7) Y ahora las 10 ultimas."
   ]
  },
  {
   "cell_type": "code",
   "execution_count": 9,
   "metadata": {
    "id": "yaMMoHc7Scj_"
   },
   "outputs": [
    {
     "name": "stdout",
     "output_type": "stream",
     "text": [
      "       Country  Year      Status  Life expectancy   Adult Mortality  \\\n",
      "2928  Zimbabwe  2009  Developing              50.0            587.0   \n",
      "2929  Zimbabwe  2008  Developing              48.2            632.0   \n",
      "2930  Zimbabwe  2007  Developing              46.6             67.0   \n",
      "2931  Zimbabwe  2006  Developing              45.4              7.0   \n",
      "2932  Zimbabwe  2005  Developing              44.6            717.0   \n",
      "2933  Zimbabwe  2004  Developing              44.3            723.0   \n",
      "2934  Zimbabwe  2003  Developing              44.5            715.0   \n",
      "2935  Zimbabwe  2002  Developing              44.8             73.0   \n",
      "2936  Zimbabwe  2001  Developing              45.3            686.0   \n",
      "2937  Zimbabwe  2000  Developing              46.0            665.0   \n",
      "\n",
      "      infant deaths  Alcohol  percentage expenditure  Hepatitis B  Measles   \\\n",
      "2928             30     4.64                1.040021         73.0       853   \n",
      "2929             30     3.56               20.843429         75.0         0   \n",
      "2930             29     3.88               29.814566         72.0       242   \n",
      "2931             28     4.57               34.262169         68.0       212   \n",
      "2932             28     4.14                8.717409         65.0       420   \n",
      "2933             27     4.36                0.000000         68.0        31   \n",
      "2934             26     4.06                0.000000          7.0       998   \n",
      "2935             25     4.43                0.000000         73.0       304   \n",
      "2936             25     1.72                0.000000         76.0       529   \n",
      "2937             24     1.68                0.000000         79.0      1483   \n",
      "\n",
      "      ...  Polio  Total expenditure  Diphtheria    HIV/AIDS         GDP  \\\n",
      "2928  ...   69.0               6.26         73.0       18.1   65.824121   \n",
      "2929  ...   75.0               4.96         75.0       20.5  325.678573   \n",
      "2930  ...   73.0               4.47         73.0       23.7  396.998217   \n",
      "2931  ...   71.0               5.12          7.0       26.8  414.796232   \n",
      "2932  ...   69.0               6.44         68.0       30.3  444.765750   \n",
      "2933  ...   67.0               7.13         65.0       33.6  454.366654   \n",
      "2934  ...    7.0               6.52         68.0       36.7  453.351155   \n",
      "2935  ...   73.0               6.53         71.0       39.8   57.348340   \n",
      "2936  ...   76.0               6.16         75.0       42.1  548.587312   \n",
      "2937  ...   78.0               7.10         78.0       43.5  547.358878   \n",
      "\n",
      "      Population   thinness  1-19 years   thinness 5-9 years  \\\n",
      "2928   1381599.0                    7.5                  7.4   \n",
      "2929  13558469.0                    7.8                  7.8   \n",
      "2930   1332999.0                    8.2                  8.2   \n",
      "2931  13124267.0                    8.6                  8.6   \n",
      "2932    129432.0                    9.0                  9.0   \n",
      "2933  12777511.0                    9.4                  9.4   \n",
      "2934  12633897.0                    9.8                  9.9   \n",
      "2935    125525.0                    1.2                  1.3   \n",
      "2936  12366165.0                    1.6                  1.7   \n",
      "2937  12222251.0                   11.0                 11.2   \n",
      "\n",
      "      Income composition of resources  Schooling  \n",
      "2928                            0.419        9.9  \n",
      "2929                            0.421        9.7  \n",
      "2930                            0.414        9.6  \n",
      "2931                            0.408        9.5  \n",
      "2932                            0.406        9.3  \n",
      "2933                            0.407        9.2  \n",
      "2934                            0.418        9.5  \n",
      "2935                            0.427       10.0  \n",
      "2936                            0.427        9.8  \n",
      "2937                            0.434        9.8  \n",
      "\n",
      "[10 rows x 22 columns]\n"
     ]
    }
   ],
   "source": [
    "# Inspecciono las ultimas filas con .tail\n",
    "print(expvida.tail(10))"
   ]
  },
  {
   "cell_type": "markdown",
   "metadata": {
    "id": "thLRW3GjSckC"
   },
   "source": [
    "8) ¿Que tipos de datos contiene cada una de las columnas de `expvida`?"
   ]
  },
  {
   "cell_type": "code",
   "execution_count": 12,
   "metadata": {
    "id": "AfAgFAJdSckD"
   },
   "outputs": [
    {
     "name": "stdout",
     "output_type": "stream",
     "text": [
      "Los tipos de datos para cada columna son:\n",
      "Country                             object\n",
      "Year                                 int64\n",
      "Status                              object\n",
      "Life expectancy                    float64\n",
      "Adult Mortality                    float64\n",
      "infant deaths                        int64\n",
      "Alcohol                            float64\n",
      "percentage expenditure             float64\n",
      "Hepatitis B                        float64\n",
      "Measles                              int64\n",
      " BMI                               float64\n",
      "under-five deaths                    int64\n",
      "Polio                              float64\n",
      "Total expenditure                  float64\n",
      "Diphtheria                         float64\n",
      " HIV/AIDS                          float64\n",
      "GDP                                float64\n",
      "Population                         float64\n",
      " thinness  1-19 years              float64\n",
      " thinness 5-9 years                float64\n",
      "Income composition of resources    float64\n",
      "Schooling                          float64\n",
      "dtype: object\n"
     ]
    }
   ],
   "source": [
    "# Tipo de datos en cada columna usando .dtypes\n",
    "print('Los tipos de datos para cada columna son:')\n",
    "print(expvida.dtypes)"
   ]
  },
  {
   "cell_type": "markdown",
   "metadata": {
    "id": "7Nsyhb7LSckG"
   },
   "source": [
    "9) ¿Hay valores faltantes en alguna de las columnas de `expvida`?"
   ]
  },
  {
   "cell_type": "code",
   "execution_count": 13,
   "metadata": {
    "id": "DP_IgUWzSckI"
   },
   "outputs": [
    {
     "name": "stdout",
     "output_type": "stream",
     "text": [
      "La cantidad de datos faltantes para cada columna es:\n"
     ]
    },
    {
     "data": {
      "text/plain": [
       "Country                              0\n",
       "Year                                 0\n",
       "Status                               0\n",
       "Life expectancy                     10\n",
       "Adult Mortality                     10\n",
       "infant deaths                        0\n",
       "Alcohol                            194\n",
       "percentage expenditure               0\n",
       "Hepatitis B                        553\n",
       "Measles                              0\n",
       " BMI                                34\n",
       "under-five deaths                    0\n",
       "Polio                               19\n",
       "Total expenditure                  226\n",
       "Diphtheria                          19\n",
       " HIV/AIDS                            0\n",
       "GDP                                448\n",
       "Population                         652\n",
       " thinness  1-19 years               34\n",
       " thinness 5-9 years                 34\n",
       "Income composition of resources    167\n",
       "Schooling                          163\n",
       "dtype: int64"
      ]
     },
     "execution_count": 13,
     "metadata": {},
     "output_type": "execute_result"
    }
   ],
   "source": [
    "# Obtengo la cantidad de datos faltantes en cada columna usando .isnull para encontrar los nulos\n",
    "# y .sum para cuantificarlos en cada columna\n",
    "print('La cantidad de datos faltantes para cada columna es:')\n",
    "expvida.isnull().sum() "
   ]
  },
  {
   "cell_type": "markdown",
   "metadata": {
    "id": "Q7-bL4tlSckL"
   },
   "source": [
    "10) Selecciona el maximo de datos faltantes. Calcula que porcentaje de los datos representan los datos faltantes."
   ]
  },
  {
   "cell_type": "code",
   "execution_count": 15,
   "metadata": {
    "id": "gicdHYh0SckM"
   },
   "outputs": [
    {
     "name": "stdout",
     "output_type": "stream",
     "text": [
      "El máximo valor de datos faltantes en una columna es 652\n"
     ]
    }
   ],
   "source": [
    "# Obtengo el mayor número de valores nulos y lo guardo en la variable maxnan\n",
    "maxnan=expvida.isnull().sum().max()\n",
    "print(f'El máximo valor de datos faltantes en una columna es', maxnan)"
   ]
  },
  {
   "cell_type": "code",
   "execution_count": 16,
   "metadata": {
    "id": "RuRgzIFBSckT"
   },
   "outputs": [
    {
     "name": "stdout",
     "output_type": "stream",
     "text": [
      "La cantidad de filas del DataFrame es 2938\n"
     ]
    }
   ],
   "source": [
    "# Obtengo la cantidad de filas total y divido el maximo valor de datos faltantes por este numero\n",
    "# y lo multiplico por 100\n",
    "\n",
    "#la cantidad de filas total es\n",
    "f = len(expvida)\n",
    "print(f'La cantidad de filas del DataFrame es',f)\n",
    "\n",
    "#obtengo porcentaje que ocupan los datos faltantes en relación al total de filas\n",
    "maxp = (maxnan*100)/f"
   ]
  },
  {
   "cell_type": "code",
   "execution_count": 17,
   "metadata": {
    "id": "1NIY9qQBSckX"
   },
   "outputs": [
    {
     "name": "stdout",
     "output_type": "stream",
     "text": [
      "El porcentaje que ocupan los datos faltantes en el DataFrame es 22.2%\n"
     ]
    }
   ],
   "source": [
    "# Imprimo el maximo porcentaje de datos faltantes. Uso f-strings.\n",
    "print(f'El porcentaje que ocupan los datos faltantes en el DataFrame es {maxp:.1f}%')"
   ]
  },
  {
   "cell_type": "markdown",
   "metadata": {
    "id": "r0ukORx9Sckg"
   },
   "source": [
    "- str.format()\n",
    "- Template Class\n",
    "- f-strings"
   ]
  },
  {
   "cell_type": "markdown",
   "metadata": {
    "id": "hUXqdma_Sckj"
   },
   "source": [
    "#### Ahora vamos a realizar algunos calculos y manipulaciones sobre las columnas."
   ]
  },
  {
   "cell_type": "markdown",
   "metadata": {
    "id": "eBzg8GYGSckk"
   },
   "source": [
    "Una función útil para este fin es: `.rename()`. Y podemos utilizarla de la siguiente manera: Si `df` es mi DataFrame y quiero renombrar la columna `columna` como `columna1`, y la columna `columna2` como `columna3`, utilizo la siguiente sintaxis:\n",
    "  \n",
    "`df.rename(columns={\"columna\": \"columna1\", \"columna2\": \"columna3\"}, inplace=True)`"
   ]
  },
  {
   "cell_type": "markdown",
   "metadata": {
    "id": "EYINiSHdSckl"
   },
   "source": [
    "11) Renombra la columna 'Life expectancy ' como 'life_expectancy', ' BMI ' como 'bmi' y ''Measles ' como 'measles'. No olvides de usar `inplace` para modificar el DataFrame original. Luego chequea que el cambio se haya hecho correctamente."
   ]
  },
  {
   "cell_type": "code",
   "execution_count": 18,
   "metadata": {},
   "outputs": [
    {
     "name": "stdout",
     "output_type": "stream",
     "text": [
      "Los nombres actuales de cada columna son:\n",
      "['Country', 'Year', 'Status', 'Life expectancy ', 'Adult Mortality', 'infant deaths', 'Alcohol', 'percentage expenditure', 'Hepatitis B', 'Measles ', ' BMI ', 'under-five deaths ', 'Polio', 'Total expenditure', 'Diphtheria ', ' HIV/AIDS', 'GDP', 'Population', ' thinness  1-19 years', ' thinness 5-9 years', 'Income composition of resources', 'Schooling']\n"
     ]
    }
   ],
   "source": [
    "# Chequeo cómo aparecen escritos los nombres en cada columna\n",
    "print('Los nombres actuales de cada columna son:')\n",
    "print(expvida.columns.tolist())"
   ]
  },
  {
   "cell_type": "code",
   "execution_count": 19,
   "metadata": {
    "id": "TL4b2ueXSckm"
   },
   "outputs": [],
   "source": [
    "# Renombro columnas del DataFrame según consigna usando función rename\n",
    "expvida.rename(columns={\"Life expectancy \": \"life_expectancy\", \" BMI \": \"bmi\", \"Measles \":\"measles\"}, inplace=True)"
   ]
  },
  {
   "cell_type": "code",
   "execution_count": 20,
   "metadata": {
    "id": "r1RVoERMSckp"
   },
   "outputs": [
    {
     "name": "stdout",
     "output_type": "stream",
     "text": [
      "Cambiando los nombres que se requieren según la consigna queda:\n",
      "['Country', 'Year', 'Status', 'life_expectancy', 'Adult Mortality', 'infant deaths', 'Alcohol', 'percentage expenditure', 'Hepatitis B', 'measles', 'bmi', 'under-five deaths ', 'Polio', 'Total expenditure', 'Diphtheria ', ' HIV/AIDS', 'GDP', 'Population', ' thinness  1-19 years', ' thinness 5-9 years', 'Income composition of resources', 'Schooling']\n"
     ]
    }
   ],
   "source": [
    "# Chequeo que se hayan reemplazado correctamente\n",
    "print('Cambiando los nombres que se requieren según la consigna queda:')\n",
    "print(expvida.columns.tolist())"
   ]
  },
  {
   "cell_type": "markdown",
   "metadata": {
    "id": "cNXpOsdiScks"
   },
   "source": [
    "12) ¿Cual es el promedio de expectativa de vida (Life expectancy) en general?"
   ]
  },
  {
   "cell_type": "code",
   "execution_count": 21,
   "metadata": {
    "id": "OYv3yiXmSckt"
   },
   "outputs": [
    {
     "name": "stdout",
     "output_type": "stream",
     "text": [
      "El valor medio de la expectativa de vida general es de 69.2 años\n"
     ]
    }
   ],
   "source": [
    "# Obtengo el promedio de la columna Life_expectancy usando función mean y renombrando el valor\n",
    "mexp = expvida['life_expectancy'].mean()\n",
    "# Muestro en pantalla el resultado redondeado a 1 decimal\n",
    "print(f'El valor medio de la expectativa de vida general es de {mexp:.1f} años')"
   ]
  },
  {
   "cell_type": "markdown",
   "metadata": {
    "id": "A-bzQhFqSckw"
   },
   "source": [
    "13) ¿Cual es el promedio de expectativa de vida (Life expectancy) por país?"
   ]
  },
  {
   "cell_type": "code",
   "execution_count": 22,
   "metadata": {
    "id": "eWN_AJPMSckx"
   },
   "outputs": [
    {
     "name": "stdout",
     "output_type": "stream",
     "text": [
      "El promedio de la expectativa de vida por país es\n",
      "                                Country  life_expectancy\n",
      "0                           Afghanistan             58.2\n",
      "1                               Albania             75.2\n",
      "2                               Algeria             73.6\n",
      "3                                Angola             49.0\n",
      "4                   Antigua and Barbuda             75.1\n",
      "..                                  ...              ...\n",
      "188  Venezuela (Bolivarian Republic of)             73.4\n",
      "189                            Viet Nam             74.8\n",
      "190                               Yemen             63.9\n",
      "191                              Zambia             53.9\n",
      "192                            Zimbabwe             50.5\n",
      "\n",
      "[193 rows x 2 columns]\n"
     ]
    }
   ],
   "source": [
    "# Obtengo el promedio por pais y redondeo a 1 decimal\n",
    "prom = expvida.groupby('Country', as_index=False)['life_expectancy'].mean().round(1)\n",
    "print(\"El promedio de la expectativa de vida por país es\")\n",
    "print(prom)"
   ]
  },
  {
   "cell_type": "markdown",
   "metadata": {
    "id": "YIopZIPrSck0"
   },
   "source": [
    "14) ¿Cual es la expectativa de vida mas alta y mas baja? Usa la funcion de pandas y la funcion de NumPy y compara el resultado. ¿Que paises tienen esas expectativas de vida?"
   ]
  },
  {
   "cell_type": "code",
   "execution_count": 23,
   "metadata": {
    "id": "gU8js5J8Sck0"
   },
   "outputs": [],
   "source": [
    "# Maxima expectativa de vida usando numpy\n",
    "max_numpy = np.max(expvida[\"life_expectancy\"])"
   ]
  },
  {
   "cell_type": "code",
   "execution_count": 24,
   "metadata": {
    "id": "_JyNdRuESck2"
   },
   "outputs": [],
   "source": [
    "# Maxima expectativa de vida usando pandas\n",
    "max_pandas = expvida[\"life_expectancy\"].max()"
   ]
  },
  {
   "cell_type": "code",
   "execution_count": 25,
   "metadata": {
    "id": "pTCZ9VJXSck4"
   },
   "outputs": [],
   "source": [
    "# Minima expectativa de vida usando numpy\n",
    "min_numpy = np.min(expvida[\"life_expectancy\"])"
   ]
  },
  {
   "cell_type": "code",
   "execution_count": 26,
   "metadata": {
    "id": "BbJ9nW_LSck6"
   },
   "outputs": [],
   "source": [
    "# Minima expectativa de vida usando pandas\n",
    "min_pandas = expvida[\"life_expectancy\"].min()"
   ]
  },
  {
   "cell_type": "code",
   "execution_count": 27,
   "metadata": {
    "id": "R83PS8f8Sck8"
   },
   "outputs": [
    {
     "name": "stdout",
     "output_type": "stream",
     "text": [
      "La máxima expectativa de vida es de 89.0 años\n",
      "La máxima expectativa de vida es de 89.0 años\n"
     ]
    }
   ],
   "source": [
    "# Muestro los resultados maximos\n",
    "print(f'La máxima expectativa de vida es de {max_numpy} años')\n",
    "print(f'La máxima expectativa de vida es de {max_pandas} años')\n",
    "\n",
    "##los valores son iguales\n",
    "## la clave está en saber que existen estas dos maneras de calcular\n"
   ]
  },
  {
   "cell_type": "code",
   "execution_count": 28,
   "metadata": {
    "id": "jUZlYu3BSck_"
   },
   "outputs": [
    {
     "name": "stdout",
     "output_type": "stream",
     "text": [
      "La minima expectativa de vida es de 36.3 años\n",
      "La minima expectativa de vida es de 36.3 años\n"
     ]
    }
   ],
   "source": [
    "# Muestro los resultados minimos\n",
    "print(f'La minima expectativa de vida es de {min_numpy} años')\n",
    "print(f'La minima expectativa de vida es de {min_pandas} años')"
   ]
  },
  {
   "cell_type": "code",
   "execution_count": 44,
   "metadata": {
    "id": "et_RZ44GSclB"
   },
   "outputs": [
    {
     "name": "stdout",
     "output_type": "stream",
     "text": [
      "El/Los paises que tienen la mayor expectativa de vida son: Belgium, Finland, France, Germany, Italy, New Zealand, Norway, Portugal, Spain, Sweden\n"
     ]
    }
   ],
   "source": [
    "# Filtro las columnas para mostrar solo las filas que tengan valor\n",
    "# igual al maximo\n",
    "filas_max = expvida[expvida[\"life_expectancy\"] == max_pandas] \n",
    "# filtro para que aparezcan una sola vez los nombre de esos paises\n",
    "maxun = filas_max['Country'].unique()\n",
    "# toma los elementos del array maxun y los une en un solo string, separados por coma\n",
    "print(f'El/Los paises que tienen la mayor expectativa de vida son: {\", \".join(maxun)}')"
   ]
  },
  {
   "cell_type": "code",
   "execution_count": 45,
   "metadata": {
    "id": "IQnm1-44SclE"
   },
   "outputs": [
    {
     "name": "stdout",
     "output_type": "stream",
     "text": [
      "El/Los paises que tienen la menor expectativa de vida son: Haiti\n"
     ]
    }
   ],
   "source": [
    "# Filtro las columnas para mostrar solo las filas que tengan valor\n",
    "# igual al minimo\n",
    "filas_min = expvida[expvida[\"life_expectancy\"] == min_pandas]\n",
    "# filtro para que aparezcan una sola vez los nombre de esos paises\n",
    "minun = filas_min['Country'].unique()\n",
    "print(f'El/Los paises que tienen la menor expectativa de vida son: {\", \".join(minun)}')\n"
   ]
  },
  {
   "cell_type": "markdown",
   "metadata": {
    "id": "mk_q0UUdSclq"
   },
   "source": [
    "15) ¿Cuantas categorias encontramos en la columna \"Status\"? _**Pista**_: Lee acerca de la función [unique()](http://pandas.pydata.org/pandas-docs/stable/reference/api/pandas.Series.unique.html?highlight=unique#pandas.Series.unique)"
   ]
  },
  {
   "cell_type": "code",
   "execution_count": 49,
   "metadata": {
    "id": "HA2tDgWVSclq"
   },
   "outputs": [
    {
     "name": "stdout",
     "output_type": "stream",
     "text": [
      "En la columna Status hay 2 categorías: Developing, Developed\n"
     ]
    }
   ],
   "source": [
    "# Obtengo los valores unicos de la columna status\n",
    "stun = expvida['Status'].unique()\n",
    "# mostramos cuántas categorias encontramos en la columna Status\n",
    "print(f\"En la columna Status hay {len(stun)} categorías: {', '.join(stun)}\")"
   ]
  },
  {
   "cell_type": "markdown",
   "metadata": {
    "id": "ps0WfRElSclu"
   },
   "source": [
    "16) ¿Cuantos paises se ubican en cada una de esas categorias de \"Status\"? _**Pista**_: Lee acerca de la función [value_counts()](http://pandas.pydata.org/pandas-docs/stable/reference/api/pandas.Series.value_counts.html)"
   ]
  },
  {
   "cell_type": "code",
   "execution_count": 53,
   "metadata": {
    "id": "a8zkd7TTSclw"
   },
   "outputs": [
    {
     "name": "stdout",
     "output_type": "stream",
     "text": [
      "En la categoría 'Developing' hay 2426 valores\n",
      "En la categoría 'Developed' hay 512 valores\n"
     ]
    }
   ],
   "source": [
    "# Cuento cuantos valores hay de cada categoria\n",
    "st = expvida['Status'].value_counts()\n",
    "for categoria, cantidad in st.items():\n",
    "    print(f\"En la categoría '{categoria}' hay {cantidad} valores\")"
   ]
  },
  {
   "cell_type": "markdown",
   "metadata": {
    "id": "IFvTsLnQSclz"
   },
   "source": [
    "18) ¿Cuantos paises presentaron algun caso de Sarampion (**Measles**) en el 2015? **_Pista_**: Lee acerca de la función [.count()](http://pandas.pydata.org/pandas-docs/stable/reference/api/pandas.DataFrame.count.html?highlight=count#pandas.DataFrame.count)"
   ]
  },
  {
   "cell_type": "code",
   "execution_count": 56,
   "metadata": {
    "id": "aFaOi_mmScl2"
   },
   "outputs": [
    {
     "name": "stdout",
     "output_type": "stream",
     "text": [
      "Cantidad de países con casos de sarampión en 2015: 121\n"
     ]
    }
   ],
   "source": [
    "paises_con_sarampion_2015 = expvida[(expvida['Year'] == 2015) & (expvida['measles'] > 0)]\n",
    "cantidad_paises = paises_con_sarampion_2015['Country'].count()\n",
    "#otra opción puede ser usar .unique, para que cuente solo 1 vez cada país\n",
    "#en este ejemplo, da lo mismo\n",
    "#cantidad_paises = paises_con_sarampion_2015['Country'].nunique()\n",
    "print(f\"Cantidad de países con casos de sarampión en 2015: {cantidad_paises}\")\n"
   ]
  },
  {
   "cell_type": "code",
   "execution_count": null,
   "metadata": {},
   "outputs": [],
   "source": []
  }
 ],
 "metadata": {
  "colab": {
   "provenance": []
  },
  "kernelspec": {
   "display_name": "Python 3",
   "language": "python",
   "name": "python3"
  },
  "language_info": {
   "codemirror_mode": {
    "name": "ipython",
    "version": 3
   },
   "file_extension": ".py",
   "mimetype": "text/x-python",
   "name": "python",
   "nbconvert_exporter": "python",
   "pygments_lexer": "ipython3",
   "version": "3.8.8"
  }
 },
 "nbformat": 4,
 "nbformat_minor": 1
}

{
 "cells": [
  {
   "cell_type": "markdown",
   "metadata": {
    "id": "Gp2WddtV9IwG"
   },
   "source": [
    "# Programa Ingenias+ Data Science"
   ]
  },
  {
   "cell_type": "markdown",
   "metadata": {
    "id": "H4M1yVbf9IwH"
   },
   "source": [
    "Como dijimos en clases anteriores, Python tiene implementadas muchas librerias para poder trabajar con datos. En la clase de hoy trabajaremos con una de ellas: `Numpy`."
   ]
  },
  {
   "cell_type": "markdown",
   "metadata": {
    "id": "GdTT8WeL9IwI"
   },
   "source": [
    "Antes de comenzar, vamos a hablar un poco de esta libreria o modulo.\n",
    "\n",
    "**Numpy** es una librería optimizada para realizar cálculos numéricos con vectores y matrices. A diferencia de otros lenguajes de programación, Python no posee en su estructura central la figura de matrices. Eso quiere decir que para poder trabajar con esta estructura de datos deberiamos trabajar con listas de listas. NumPy introduce el concepto de arrays o matrices."
   ]
  },
  {
   "cell_type": "markdown",
   "metadata": {
    "id": "qWkq3EHK9IwK"
   },
   "source": [
    "Al ser de código abierto, `numpy` posee una documentación muy amplia que es **SIEMPRE RECOMENDABLE** consultar."
   ]
  },
  {
   "cell_type": "markdown",
   "metadata": {
    "id": "nxe3KLUO9IwL"
   },
   "source": [
    "- [Documentacion NumPy](https://devdocs.io/numpy/)"
   ]
  },
  {
   "cell_type": "markdown",
   "metadata": {
    "id": "l1Ay3nSs9IwN"
   },
   "source": [
    "## Clase 4: Introduccion a NumPy"
   ]
  },
  {
   "cell_type": "markdown",
   "metadata": {
    "id": "X03mviQS9IyL"
   },
   "source": [
    "# Ejercicios\n",
    "\n",
    "1. Crear un arreglo de ceros de longitud 12\n",
    "2. Crear un arreglo de longitud 10 con ceros en todas sus posiciones y un 10 en la posición número 5\n",
    "3. Crear un arreglo que tenga los números del 10 al 49\n",
    "4. Crear una arreglo 2d de shape (3, 3) que tenga los números del 0 al 8\n",
    "5. Crear un arreglo de números aleatorios de longitud 100 y obtener su media y varianza\n",
    "6. Calcular la media de un arreglo usando np.sum\n",
    "7. Calcular la varianza de un arreglo usando np.sum y np.mean\n",
    "8. Crear un array de números aleatorios usando np.random.randn.\n"
   ]
  },
  {
   "cell_type": "code",
   "execution_count": 1,
   "metadata": {
    "id": "G0NMKT609IyM"
   },
   "outputs": [
    {
     "name": "stdout",
     "output_type": "stream",
     "text": [
      "El arreglo de ceros de longitud 12 es [0. 0. 0. 0. 0. 0. 0. 0. 0. 0. 0. 0.]\n"
     ]
    }
   ],
   "source": [
    "#Ejercicio 1\n",
    "#Crear un arreglo de ceros de longitud 12\n",
    "\n",
    "#importamos libreria numpy\n",
    "import numpy as np\n",
    "#creamos el arreglo y mostramos en pantalla\n",
    "arreglo1 = np.zeros(12)\n",
    "print(f'El arreglo de ceros de longitud 12 es {arreglo1}')"
   ]
  },
  {
   "cell_type": "code",
   "execution_count": 3,
   "metadata": {},
   "outputs": [
    {
     "name": "stdout",
     "output_type": "stream",
     "text": [
      "El arreglo de longitud 10 con un 10 en la posición número 5 queda [ 0.  0.  0.  0. 10.  0.  0.  0.  0.  0.]\n"
     ]
    }
   ],
   "source": [
    "#Ejercicio 2\n",
    "#Crear un arreglo de longitud 10 con ceros en todas\n",
    "#sus posiciones y un 10 en la posición número 5\n",
    "\n",
    "#creamos arreglo de longitud 10 con ceros en todas las posciones\n",
    "arreglo2 = np.zeros(10)\n",
    "#cambiamos el valor de la posición 10 por el numero 5\n",
    "arreglo2[4] = 10\n",
    "print('El arreglo de longitud 10 con un 10 en la posición número 5 queda', arreglo2)\n"
   ]
  },
  {
   "cell_type": "code",
   "execution_count": 5,
   "metadata": {},
   "outputs": [
    {
     "name": "stdout",
     "output_type": "stream",
     "text": [
      "El arreglo con números del 10 al 49 es: [10 11 12 13 14 15 16 17 18 19 20 21 22 23 24 25 26 27 28 29 30 31 32 33\n",
      " 34 35 36 37 38 39 40 41 42 43 44 45 46 47 48 49]\n"
     ]
    }
   ],
   "source": [
    "#Ejercicio 3\n",
    "#Crear un arreglo que tenga los números del 10 al 49\n",
    "\n",
    "#creamos arreglo\n",
    "arreglo3 = np.arange(10,50) #recordar que el último elemento no lo considera\n",
    "#vemos en pantalla\n",
    "print(f'El arreglo con números del 10 al 49 es: {arreglo3}')"
   ]
  },
  {
   "cell_type": "code",
   "execution_count": 6,
   "metadata": {},
   "outputs": [
    {
     "name": "stdout",
     "output_type": "stream",
     "text": [
      "El arreglo 2D con números del 0 al 8 queda:\n",
      "[[0 1 2]\n",
      " [3 4 5]\n",
      " [6 7 8]]\n"
     ]
    }
   ],
   "source": [
    "#Ejercicio 4\n",
    "#Crear una arreglo 2d de shape (3, 3) que tenga los números del 0 al 8\n",
    "\n",
    "#creamos un arreglo con los numeros de 0 al 8\n",
    "arreglo4 = np.arange(9)\n",
    "#usamos el comando resize para darle la forma de (3,3)\n",
    "nuevo_arreglo4 = np.resize(arreglo4,(3,3))\n",
    "#mostramos en pantalla\n",
    "print('El arreglo 2D con números del 0 al 8 queda:')\n",
    "print(nuevo_arreglo4)"
   ]
  },
  {
   "cell_type": "code",
   "execution_count": 7,
   "metadata": {},
   "outputs": [
    {
     "name": "stdout",
     "output_type": "stream",
     "text": [
      "La media del arreglo de números aleatorios es: 0.49\n",
      "La varianza del arreglo de números aleatorios es: 0.08\n"
     ]
    }
   ],
   "source": [
    "#Ejercicio 5\n",
    "#Crear un arreglo de números aleatorios de longitud 100 \n",
    "#y obtener su media y varianza\n",
    "\n",
    "#creamos un arreglo de números aleatorios de longitud 100\n",
    "arreglo5 = np.random.rand(100)\n",
    "#calculamos la media y mostramos en pantalla\n",
    "media =  np.mean(arreglo5)\n",
    "print(f'La media del arreglo de números aleatorios es: {media:.2f}')\n",
    "#calculamos la varianza y mostramos en pantalla\n",
    "varianza = np.var(arreglo5)\n",
    "print(f'La varianza del arreglo de números aleatorios es: {varianza:.2f}')\n"
   ]
  },
  {
   "cell_type": "code",
   "execution_count": 12,
   "metadata": {},
   "outputs": [
    {
     "name": "stdout",
     "output_type": "stream",
     "text": [
      "Arreglo:\n",
      "[[0 1 2]\n",
      " [3 4 5]\n",
      " [6 7 8]]\n",
      "La media del arreglo es: 4.00\n",
      "La varianza del arreglo es 6.67\n"
     ]
    }
   ],
   "source": [
    "#Ejercicio 6\n",
    "#Calcular la media de un arreglo usando np.sum\n",
    "#defino arreglo\n",
    "arreglo6 = nuevo_arreglo4\n",
    "print('Arreglo:')\n",
    "print(arreglo6)\n",
    "#calculo la media usando np.sum y la longitud usando size\n",
    "lon = arreglo6.size #devuelve la longitud\n",
    "media = np.sum(arreglo6) / lon\n",
    "#muestro en pantalla el resultado\n",
    "print(f'La media del arreglo es: {media:.2f}')\n",
    "\n",
    "#Ejercicio 7\n",
    "#Calcular la varianza de un arreglo usando np.sum y np.mean\n",
    "#definimos la varianza\n",
    "varianza = np.sum((arreglo6 - media)**2) / lon\n",
    "#muestro resultado en pantalla\n",
    "print(f'La varianza del arreglo es {varianza:.2f}')"
   ]
  },
  {
   "cell_type": "code",
   "execution_count": 15,
   "metadata": {},
   "outputs": [
    {
     "name": "stdout",
     "output_type": "stream",
     "text": [
      "El arreglo de números aleatorios es:\n",
      "[-1.14  0.99  0.9   1.66 -0.67 -2.02 -1.49 -0.57  1.26  1.08  0.76 -1.04\n",
      " -0.87 -0.87  1.35  1.82  0.04  0.44  0.94 -0.04]\n"
     ]
    }
   ],
   "source": [
    "#Ejercicio 8\n",
    "#Crear un array de números aleatorios usando np.random.randn y muestro 2 decimales usando .round\n",
    "arreglo8 = np.round(np.random.randn(20),2)\n",
    "print('El arreglo de números aleatorios es:')\n",
    "print(arreglo8)"
   ]
  },
  {
   "cell_type": "code",
   "execution_count": null,
   "metadata": {},
   "outputs": [],
   "source": []
  }
 ],
 "metadata": {
  "colab": {
   "provenance": []
  },
  "kernelspec": {
   "display_name": "Python 3",
   "language": "python",
   "name": "python3"
  },
  "language_info": {
   "codemirror_mode": {
    "name": "ipython",
    "version": 3
   },
   "file_extension": ".py",
   "mimetype": "text/x-python",
   "name": "python",
   "nbconvert_exporter": "python",
   "pygments_lexer": "ipython3",
   "version": "3.8.8"
  }
 },
 "nbformat": 4,
 "nbformat_minor": 1
}

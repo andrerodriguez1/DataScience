{
  "nbformat": 4,
  "nbformat_minor": 0,
  "metadata": {
    "kernelspec": {
      "display_name": "Python 3",
      "language": "python",
      "name": "python3"
    },
    "language_info": {
      "codemirror_mode": {
        "name": "ipython",
        "version": 3
      },
      "file_extension": ".py",
      "mimetype": "text/x-python",
      "name": "python",
      "nbconvert_exporter": "python",
      "pygments_lexer": "ipython3",
      "version": "3.7.3"
    },
    "colab": {
      "provenance": [],
      "include_colab_link": true
    }
  },
  "cells": [
    {
      "cell_type": "markdown",
      "metadata": {
        "id": "view-in-github",
        "colab_type": "text"
      },
      "source": [
        "<a href=\"https://colab.research.google.com/github/andrerodriguez1/DataScience/blob/main/Notebook_2.ipynb\" target=\"_parent\"><img src=\"https://colab.research.google.com/assets/colab-badge.svg\" alt=\"Open In Colab\"/></a>"
      ]
    },
    {
      "cell_type": "markdown",
      "metadata": {
        "id": "ZfnZX-ohfJOA"
      },
      "source": [
        "## Clase 2: Funciones y Estructuras de control"
      ]
    },
    {
      "cell_type": "markdown",
      "metadata": {
        "id": "fUZUxG1CfJKo"
      },
      "source": [
        "# Programa Ingenias+ Data Science"
      ]
    },
    {
      "cell_type": "markdown",
      "metadata": {
        "id": "UyqJAomcfJOB"
      },
      "source": [
        "En esta parte de la clase, vamos a estudiar sentencias de código que nos permitiran evaluar expresiones, recorrer estructura de datos o realizar operaciones mas complejas sobre ellas."
      ]
    },
    {
      "cell_type": "markdown",
      "metadata": {
        "id": "rnHu5n2lfJOR"
      },
      "source": [
        "## Definiendo Funciones"
      ]
    },
    {
      "cell_type": "markdown",
      "metadata": {
        "id": "36pZetV8fJOR"
      },
      "source": [
        "Python nos permite crear nuestras propias funciones. Una **función** es una secuencia de sentencias que ejecuta una operación deseada y tiene un nombre. Esta operación se especifica en una definición de función. En Python, la estructura general de una función contiene:\n",
        "\n",
        "- Un encabezado, que empieza con una palabra reservada `def` y termina con dos puntos.\n",
        "- Un cuerpo consistente de una o más sentencias de Python"
      ]
    },
    {
      "cell_type": "markdown",
      "metadata": {
        "id": "XAdT0XJMfJOS"
      },
      "source": [
        "Antes de seguir adelante debemos aclarar algo que es muy importante para la sintaxis de Python. Las funciones de Python no tienen begin o end explícitos, ni llaves que marquen dónde empieza o termina su código, como otros lenguajes de programación. El único delimitador son dos puntos `:` y el **INDENTADO** del propio código."
      ]
    },
    {
      "cell_type": "markdown",
      "metadata": {
        "id": "YfxgbOJcfJOS"
      },
      "source": [
        "Los bloques de código van definidos por su indentados. Con **bloque de código** nos referimos a funciones, sentencias if, bucles for, while, etc. El indentado comienza un bloque y su ausencia lo termina. No hay llaves, corchetes ni palabras clave explícitas. Esto quiere decir que el espacio en blanco es significativo y debe ser consistente."
      ]
    },
    {
      "cell_type": "markdown",
      "metadata": {
        "id": "mmwVW21vfJOS"
      },
      "source": [
        "Por convención, el indentado en Python esta dado por la presencia de **4 espacios**. Veamos entonces la sintaxis para una definición de función en Python y como funciona el indentado."
      ]
    },
    {
      "cell_type": "code",
      "metadata": {
        "id": "_mQ8w7yTfJOT",
        "outputId": "182e6aa3-bc61-4c76-f189-8aebb6743de4",
        "colab": {
          "base_uri": "https://localhost:8080/"
        }
      },
      "source": [
        "#Para definir una funcion en python debo comenzar con def\n",
        "#luego el nombre de la funcion\n",
        "#Entre parentesis declaro los argumentos o variables que debe tomar\n",
        "#la funcion definida\n",
        "def suma(a, b, c):\n",
        "    #En el cuerpo establezco que hara la función\n",
        "    return a+b-c\n",
        "suma(2,5,6)\n"
      ],
      "execution_count": 4,
      "outputs": [
        {
          "output_type": "execute_result",
          "data": {
            "text/plain": [
              "1"
            ]
          },
          "metadata": {},
          "execution_count": 4
        }
      ]
    },
    {
      "cell_type": "markdown",
      "metadata": {
        "id": "lZSWiyWrfJOV"
      },
      "source": [
        "Observa que la primer linea no tiene indentado, pero termina con `:`. Esto le indica a Python que alli comienza la función `comparacion`. En la segunda linea, hay un indentado de 4 espacios. Esto le indica a Python que comienza un bloque de código y todo lo que vaya ahi, ira dentro de la función.\n",
        "Luego en la tercer linea, no tenemos identado, lo que le indica a Python que la función `suma` ha finalizado."
      ]
    },
    {
      "cell_type": "markdown",
      "metadata": {
        "id": "Msqz56hVfJOW"
      },
      "source": [
        "`return` devuelve el valor de la función. Se utiliza dentro de una función. Una vez que mi función ejecuta la sentencia return, devuelve el valor especificado y no sigue ejecutando el resto de las lineas."
      ]
    },
    {
      "cell_type": "code",
      "metadata": {
        "id": "v1MTQ3zrfJOX",
        "outputId": "5e97f4e6-51cb-4722-fc43-e776a6f41ed5",
        "colab": {
          "base_uri": "https://localhost:8080/"
        }
      },
      "source": [
        "def promedio(a,b):\n",
        "    p= ((a+b)/2)\n",
        "    return p\n",
        "\n",
        "resultado = promedio(5, 12)\n",
        "\n",
        "print(f\"El promedio es {resultado}\")"
      ],
      "execution_count": 20,
      "outputs": [
        {
          "output_type": "stream",
          "name": "stdout",
          "text": [
            "El promedio es 8.5\n"
          ]
        }
      ]
    },
    {
      "cell_type": "code",
      "metadata": {
        "id": "gQoNYbaYfJOW"
      },
      "source": [
        "#Ejecuta el siguiente codigo\n",
        "def promedio(x, y):\n",
        "    resultado = (x + y) / 2\n",
        "    return resultado"
      ],
      "execution_count": 21,
      "outputs": []
    },
    {
      "cell_type": "markdown",
      "metadata": {
        "id": "0PLcn5POfJOZ"
      },
      "source": [
        "## IF-staments"
      ]
    },
    {
      "cell_type": "markdown",
      "metadata": {
        "id": "ura0DNLcfJOZ"
      },
      "source": [
        "Para escribir código útil, casi siempre necesitamos la capacidad de comprobar ciertas condiciones y cambiar el comportamiento del código como corresponda. Las sentencias condicionales nos dan esta capacidad.\n",
        "\n",
        "En Python, las sentencias condicionales vienen dadas por la sentencia `if-elif-else`. Veamos varios ejemplos."
      ]
    },
    {
      "cell_type": "code",
      "metadata": {
        "id": "tRoY9tjcfJOZ"
      },
      "source": [
        "x = 3\n",
        "y = 4"
      ],
      "execution_count": 25,
      "outputs": []
    },
    {
      "cell_type": "code",
      "metadata": {
        "id": "7nHPddDSfJOa",
        "colab": {
          "base_uri": "https://localhost:8080/"
        },
        "outputId": "468132e1-ef3b-4b68-a4fb-47e53ddbbd1e"
      },
      "source": [
        "#Primero evaluo si x es menor a y\n",
        "if x < y:\n",
        "    #Si lo es imprimo esta secuencia\n",
        "    print(x, \"es menor que\", y)"
      ],
      "execution_count": 27,
      "outputs": [
        {
          "output_type": "stream",
          "name": "stdout",
          "text": [
            "3 es menor que 4\n"
          ]
        }
      ]
    },
    {
      "cell_type": "code",
      "metadata": {
        "scrolled": true,
        "id": "XV_qQK7VfJOc",
        "colab": {
          "base_uri": "https://localhost:8080/"
        },
        "outputId": "23ca5103-0643-4e71-ccf9-4625e01efb6b"
      },
      "source": [
        "#Primero evaluo si x es menor a y\n",
        "if x < y:\n",
        "    #Si lo es imprimo esta secuencia\n",
        "    print(x, \"es menor que\", y)\n",
        "#Si esto no se cumple\n",
        "else:\n",
        "    #Entonces imprimo esta secuencia\n",
        "    print(x, \"es mayor o igual que\", y)"
      ],
      "execution_count": 26,
      "outputs": [
        {
          "output_type": "stream",
          "name": "stdout",
          "text": [
            "3 es menor que 4\n"
          ]
        }
      ]
    },
    {
      "cell_type": "code",
      "metadata": {
        "id": "jfkshTiWfJOe",
        "colab": {
          "base_uri": "https://localhost:8080/"
        },
        "outputId": "0702b18f-569a-4b2c-a6dc-678199a51bc7"
      },
      "source": [
        "#Primero evaluo si x es menor a y\n",
        "if x < y:\n",
        "    #Si lo es imprimo esta secuencia\n",
        "    print(x, \"es menor que\", y)\n",
        "#Si no lo es evaluo si x es mayor a y\n",
        "elif x > y:\n",
        "    #Si lo es, imprimo ahora esta secuencia\n",
        "    print(x, \"es mayor que\", y)"
      ],
      "execution_count": 28,
      "outputs": [
        {
          "output_type": "stream",
          "name": "stdout",
          "text": [
            "3 es menor que 4\n"
          ]
        }
      ]
    },
    {
      "cell_type": "code",
      "metadata": {
        "id": "zJrpswURfJOg",
        "colab": {
          "base_uri": "https://localhost:8080/"
        },
        "outputId": "7f3e05d3-a489-4c11-c062-e6dbf2597d47"
      },
      "source": [
        "#Primero evaluo si x es menor a y\n",
        "if x < y:\n",
        "    #Si lo es imprimo esta secuencia\n",
        "    print(x, \"es menor que\", y)\n",
        "#Si no lo es evaluo si x es mayor a y\n",
        "elif x > y:\n",
        "    #Si lo es, imprimo ahora esta secuencia\n",
        "    print(x, \"es mayor que\", y)\n",
        "#Si ninguna de las condiciones anteriores se cumple\n",
        "else:\n",
        "    #Entonces imprimo esta secuencia\n",
        "    print(x, \"y\", y, \"son iguales\")"
      ],
      "execution_count": 29,
      "outputs": [
        {
          "output_type": "stream",
          "name": "stdout",
          "text": [
            "3 es menor que 4\n"
          ]
        }
      ]
    },
    {
      "cell_type": "markdown",
      "metadata": {
        "id": "mkNV1pv4fJOh"
      },
      "source": [
        "## Iteración"
      ]
    },
    {
      "cell_type": "markdown",
      "metadata": {
        "id": "yUspGGzXfJOh"
      },
      "source": [
        "La ejecución repetida de un conjunto de sentencias se llama **iteración**. Python proporciona varias sentencias que hacen más fácil la iteración."
      ]
    },
    {
      "cell_type": "markdown",
      "metadata": {
        "id": "T2CMjNGZfJOn"
      },
      "source": [
        "## For loops"
      ]
    },
    {
      "cell_type": "markdown",
      "metadata": {
        "id": "TguBoVfSfJOn"
      },
      "source": [
        "Otra sentencia para iteraciones es el bucle `for`, que repite el bloque de código un número prederminado de veces. Observemos ahora su sintaxis:"
      ]
    },
    {
      "cell_type": "code",
      "metadata": {
        "id": "ipcq77bjfJOn"
      },
      "source": [
        "lista_numeros = [0, 1, 2, 3, 4, 5]"
      ],
      "execution_count": 30,
      "outputs": []
    },
    {
      "cell_type": "code",
      "metadata": {
        "id": "i738AChyfJOo",
        "colab": {
          "base_uri": "https://localhost:8080/"
        },
        "outputId": "937c6ff3-affb-4dc8-e2b9-8a2f8c09f677"
      },
      "source": [
        "#Para cada elemento en la lista lista_numeros\n",
        "\n",
        "for numero in lista_numeros:\n",
        "    if numero % 2 == 0:\n",
        "        resultado = numero * 2\n",
        "        #Mostra el numero\n",
        "        print(f\"El resultado de multiplicar por 2 el número par {numero} es {resultado}\")\n",
        "    else:\n",
        "        print(f'El número {numero} es impar')"
      ],
      "execution_count": 40,
      "outputs": [
        {
          "output_type": "stream",
          "name": "stdout",
          "text": [
            "El resultado de multiplicar por 2 el número par 0 es 0\n",
            "El número 1 es impar\n",
            "El resultado de multiplicar por 2 el número par 2 es 4\n",
            "El número 3 es impar\n",
            "El resultado de multiplicar por 2 el número par 4 es 8\n",
            "El número 5 es impar\n"
          ]
        }
      ]
    },
    {
      "cell_type": "markdown",
      "metadata": {
        "id": "pMCDpe1RfJOq"
      },
      "source": [
        "El cuerpo del bucle `for` se ejecuta tantas veces como elementos tenga el elemento iterable. Cualquier iterable: listas, diccionarios, strings pueden ser utilizados."
      ]
    },
    {
      "cell_type": "code",
      "metadata": {
        "id": "BpaDeomLfJOq",
        "colab": {
          "base_uri": "https://localhost:8080/"
        },
        "outputId": "e3aa7778-8e18-43b3-bfc3-e51b72d82a2c"
      },
      "source": [
        "iterable = \"los 'strings' tambien son iterables!\"\n",
        "for elemento in iterable:\n",
        "    print(elemento)"
      ],
      "execution_count": 41,
      "outputs": [
        {
          "output_type": "stream",
          "name": "stdout",
          "text": [
            "l\n",
            "o\n",
            "s\n",
            " \n",
            "'\n",
            "s\n",
            "t\n",
            "r\n",
            "i\n",
            "n\n",
            "g\n",
            "s\n",
            "'\n",
            " \n",
            "t\n",
            "a\n",
            "m\n",
            "b\n",
            "i\n",
            "e\n",
            "n\n",
            " \n",
            "s\n",
            "o\n",
            "n\n",
            " \n",
            "i\n",
            "t\n",
            "e\n",
            "r\n",
            "a\n",
            "b\n",
            "l\n",
            "e\n",
            "s\n",
            "!\n"
          ]
        }
      ]
    },
    {
      "cell_type": "markdown",
      "metadata": {
        "id": "1cRp6JVnfJOs"
      },
      "source": [
        "Los numeros no son iterables. Prueba corriendo el siguiente código."
      ]
    },
    {
      "cell_type": "code",
      "metadata": {
        "id": "5x5nrfIdfJOs",
        "colab": {
          "base_uri": "https://localhost:8080/",
          "height": 159
        },
        "outputId": "8f18a4ef-3f23-4939-a547-08888e9906de"
      },
      "source": [
        "for elemento in 4:\n",
        "      print(elemento)"
      ],
      "execution_count": 42,
      "outputs": [
        {
          "output_type": "error",
          "ename": "TypeError",
          "evalue": "'int' object is not iterable",
          "traceback": [
            "\u001b[0;31m---------------------------------------------------------------------------\u001b[0m",
            "\u001b[0;31mTypeError\u001b[0m                                 Traceback (most recent call last)",
            "\u001b[0;32m<ipython-input-42-03089aa1f59e>\u001b[0m in \u001b[0;36m<cell line: 0>\u001b[0;34m()\u001b[0m\n\u001b[0;32m----> 1\u001b[0;31m \u001b[0;32mfor\u001b[0m \u001b[0melemento\u001b[0m \u001b[0;32min\u001b[0m \u001b[0;36m4\u001b[0m\u001b[0;34m:\u001b[0m\u001b[0;34m\u001b[0m\u001b[0;34m\u001b[0m\u001b[0m\n\u001b[0m\u001b[1;32m      2\u001b[0m       \u001b[0mprint\u001b[0m\u001b[0;34m(\u001b[0m\u001b[0melemento\u001b[0m\u001b[0;34m)\u001b[0m\u001b[0;34m\u001b[0m\u001b[0;34m\u001b[0m\u001b[0m\n",
            "\u001b[0;31mTypeError\u001b[0m: 'int' object is not iterable"
          ]
        }
      ]
    },
    {
      "cell_type": "markdown",
      "metadata": {
        "id": "W70GhX9XfJOu"
      },
      "source": [
        "La función range (`range(n)`) genera una secuencia con números desde `0` hasta `n-1`."
      ]
    },
    {
      "cell_type": "code",
      "metadata": {
        "id": "wOT2VZtJfJOv",
        "colab": {
          "base_uri": "https://localhost:8080/"
        },
        "outputId": "2d75bf07-85dc-464f-ba20-b14835754427"
      },
      "source": [
        "for j in range(20):\n",
        "    if j % 2 == 0:\n",
        "        print(f\"{j} es divisible por 2\")"
      ],
      "execution_count": 45,
      "outputs": [
        {
          "output_type": "stream",
          "name": "stdout",
          "text": [
            "0 es divisible por 2\n",
            "2 es divisible por 2\n",
            "4 es divisible por 2\n",
            "6 es divisible por 2\n",
            "8 es divisible por 2\n",
            "10 es divisible por 2\n",
            "12 es divisible por 2\n",
            "14 es divisible por 2\n",
            "16 es divisible por 2\n",
            "18 es divisible por 2\n"
          ]
        }
      ]
    }
  ]
}